{
 "cells": [
  {
   "cell_type": "code",
   "execution_count": 21,
   "metadata": {},
   "outputs": [],
   "source": [
    "import pandas as pd\n",
    "import numpy as np\n",
    "import os\n",
    "import random"
   ]
  },
  {
   "cell_type": "code",
   "execution_count": 5,
   "metadata": {},
   "outputs": [],
   "source": [
    "DATA_PATH = os.path.join(\"Affirmations data\", \"possitive_affirmation.csv\")\n",
    "\n",
    "def load_data(data_path = DATA_PATH):\n",
    "    return pd.read_csv(data_path)"
   ]
  },
  {
   "cell_type": "code",
   "execution_count": 6,
   "metadata": {},
   "outputs": [],
   "source": [
    "affirmations_data = load_data()"
   ]
  },
  {
   "cell_type": "code",
   "execution_count": 7,
   "metadata": {},
   "outputs": [
    {
     "data": {
      "text/html": [
       "<div>\n",
       "<style scoped>\n",
       "    .dataframe tbody tr th:only-of-type {\n",
       "        vertical-align: middle;\n",
       "    }\n",
       "\n",
       "    .dataframe tbody tr th {\n",
       "        vertical-align: top;\n",
       "    }\n",
       "\n",
       "    .dataframe thead th {\n",
       "        text-align: right;\n",
       "    }\n",
       "</style>\n",
       "<table border=\"1\" class=\"dataframe\">\n",
       "  <thead>\n",
       "    <tr style=\"text-align: right;\">\n",
       "      <th></th>\n",
       "      <th>Affirmation</th>\n",
       "      <th>Tag</th>\n",
       "    </tr>\n",
       "  </thead>\n",
       "  <tbody>\n",
       "    <tr>\n",
       "      <th>0</th>\n",
       "      <td>A loving relationship now brightens my life</td>\n",
       "      <td>love</td>\n",
       "    </tr>\n",
       "    <tr>\n",
       "      <th>1</th>\n",
       "      <td>All my relationships are loving</td>\n",
       "      <td>love</td>\n",
       "    </tr>\n",
       "    <tr>\n",
       "      <th>2</th>\n",
       "      <td>All of my interactions are harmonious</td>\n",
       "      <td>love</td>\n",
       "    </tr>\n",
       "    <tr>\n",
       "      <th>3</th>\n",
       "      <td>All relationships in my life are harmonious an...</td>\n",
       "      <td>love</td>\n",
       "    </tr>\n",
       "    <tr>\n",
       "      <th>4</th>\n",
       "      <td>I accept a perfect loving relationship with op...</td>\n",
       "      <td>love</td>\n",
       "    </tr>\n",
       "  </tbody>\n",
       "</table>\n",
       "</div>"
      ],
      "text/plain": [
       "                                         Affirmation   Tag\n",
       "0        A loving relationship now brightens my life  love\n",
       "1                    All my relationships are loving  love\n",
       "2              All of my interactions are harmonious  love\n",
       "3  All relationships in my life are harmonious an...  love\n",
       "4  I accept a perfect loving relationship with op...  love"
      ]
     },
     "execution_count": 7,
     "metadata": {},
     "output_type": "execute_result"
    }
   ],
   "source": [
    "affirmations_data.head()"
   ]
  },
  {
   "cell_type": "code",
   "execution_count": 8,
   "metadata": {},
   "outputs": [
    {
     "data": {
      "text/plain": [
       "(513, 2)"
      ]
     },
     "execution_count": 8,
     "metadata": {},
     "output_type": "execute_result"
    }
   ],
   "source": [
    "affirmations_data.shape"
   ]
  },
  {
   "cell_type": "code",
   "execution_count": 9,
   "metadata": {},
   "outputs": [
    {
     "data": {
      "text/plain": [
       "Tag\n",
       "blessing     78\n",
       "beauty       77\n",
       "gratitude    64\n",
       "sleep        64\n",
       "spiritual    55\n",
       "love         51\n",
       "money        49\n",
       "happiness    38\n",
       "health       37\n",
       "Name: count, dtype: int64"
      ]
     },
     "execution_count": 9,
     "metadata": {},
     "output_type": "execute_result"
    }
   ],
   "source": [
    "affirmations_data['Tag'].value_counts()"
   ]
  },
  {
   "cell_type": "code",
   "execution_count": 19,
   "metadata": {},
   "outputs": [],
   "source": [
    "vital_affirmations = affirmations_data[(affirmations_data['Tag']=='blessing') | (affirmations_data['Tag']=='beauty') | (affirmations_data['Tag']=='gratitude') | \n",
    "                  (affirmations_data['Tag'] == 'spiritual') | (affirmations_data['Tag']=='love') | (affirmations_data['Tag']=='happiness') | (affirmations_data['Tag']=='health')]"
   ]
  },
  {
   "cell_type": "code",
   "execution_count": 20,
   "metadata": {},
   "outputs": [
    {
     "data": {
      "text/html": [
       "<div>\n",
       "<style scoped>\n",
       "    .dataframe tbody tr th:only-of-type {\n",
       "        vertical-align: middle;\n",
       "    }\n",
       "\n",
       "    .dataframe tbody tr th {\n",
       "        vertical-align: top;\n",
       "    }\n",
       "\n",
       "    .dataframe thead th {\n",
       "        text-align: right;\n",
       "    }\n",
       "</style>\n",
       "<table border=\"1\" class=\"dataframe\">\n",
       "  <thead>\n",
       "    <tr style=\"text-align: right;\">\n",
       "      <th></th>\n",
       "      <th>Affirmation</th>\n",
       "      <th>Tag</th>\n",
       "    </tr>\n",
       "  </thead>\n",
       "  <tbody>\n",
       "    <tr>\n",
       "      <th>0</th>\n",
       "      <td>A loving relationship now brightens my life</td>\n",
       "      <td>love</td>\n",
       "    </tr>\n",
       "    <tr>\n",
       "      <th>1</th>\n",
       "      <td>All my relationships are loving</td>\n",
       "      <td>love</td>\n",
       "    </tr>\n",
       "    <tr>\n",
       "      <th>2</th>\n",
       "      <td>All of my interactions are harmonious</td>\n",
       "      <td>love</td>\n",
       "    </tr>\n",
       "    <tr>\n",
       "      <th>3</th>\n",
       "      <td>All relationships in my life are harmonious an...</td>\n",
       "      <td>love</td>\n",
       "    </tr>\n",
       "    <tr>\n",
       "      <th>4</th>\n",
       "      <td>I accept a perfect loving relationship with op...</td>\n",
       "      <td>love</td>\n",
       "    </tr>\n",
       "    <tr>\n",
       "      <th>...</th>\n",
       "      <td>...</td>\n",
       "      <td>...</td>\n",
       "    </tr>\n",
       "    <tr>\n",
       "      <th>444</th>\n",
       "      <td>Great relationships come to me.</td>\n",
       "      <td>blessing</td>\n",
       "    </tr>\n",
       "    <tr>\n",
       "      <th>445</th>\n",
       "      <td>Divine health is mine.</td>\n",
       "      <td>blessing</td>\n",
       "    </tr>\n",
       "    <tr>\n",
       "      <th>446</th>\n",
       "      <td>I am divinely guided in all that I do.</td>\n",
       "      <td>blessing</td>\n",
       "    </tr>\n",
       "    <tr>\n",
       "      <th>447</th>\n",
       "      <td>My thoughts and actions are empowered with su...</td>\n",
       "      <td>blessing</td>\n",
       "    </tr>\n",
       "    <tr>\n",
       "      <th>448</th>\n",
       "      <td>Miracles now follow miracles and God's blessi...</td>\n",
       "      <td>blessing</td>\n",
       "    </tr>\n",
       "  </tbody>\n",
       "</table>\n",
       "<p>400 rows × 2 columns</p>\n",
       "</div>"
      ],
      "text/plain": [
       "                                           Affirmation       Tag\n",
       "0          A loving relationship now brightens my life      love\n",
       "1                      All my relationships are loving      love\n",
       "2                All of my interactions are harmonious      love\n",
       "3    All relationships in my life are harmonious an...      love\n",
       "4    I accept a perfect loving relationship with op...      love\n",
       "..                                                 ...       ...\n",
       "444                   Great relationships come to me.   blessing\n",
       "445                            Divine health is mine.   blessing\n",
       "446            I am divinely guided in all that I do.   blessing\n",
       "447   My thoughts and actions are empowered with su...  blessing\n",
       "448   Miracles now follow miracles and God's blessi...  blessing\n",
       "\n",
       "[400 rows x 2 columns]"
      ]
     },
     "execution_count": 20,
     "metadata": {},
     "output_type": "execute_result"
    }
   ],
   "source": [
    "vital_affirmations"
   ]
  },
  {
   "cell_type": "code",
   "execution_count": 49,
   "metadata": {},
   "outputs": [
    {
     "name": "stdout",
     "output_type": "stream",
     "text": [
      " I affirm abundant blessings and miracles throughout my day.\n"
     ]
    }
   ],
   "source": [
    "user_input = input(\"please enter the below categories\\nblessing\\nbeauty\\ngratitude\\nspiritual\\nlove\\nhappiness\\nhealth\")\n",
    "# if user_input == \"beauty\":\n",
    "for tags in vital_affirmations['Tag']:\n",
    "    if user_input == \"beauty\" and tags == \"beauty\":\n",
    "        affir = (vital_affirmations['Affirmation'])\n",
    "        \n",
    "    elif user_input == \"blessing\" and tags == \"blessing\":\n",
    "        affir = (vital_affirmations['Affirmation'])\n",
    "        \n",
    "    elif user_input == \"gratitude\" and tags == \"gratitude\":\n",
    "        affir = (vital_affirmations['Affirmation'])\n",
    "        \n",
    "    elif user_input == \"spiritual\" and tags == \"spiritual\":\n",
    "        affir = (vital_affirmations['Affirmation'])\n",
    "        \n",
    "    elif user_input == \"love\" and tags == \"love\":\n",
    "        affir = (vital_affirmations['Affirmation'])\n",
    "        \n",
    "    elif user_input == \"happiness\" and tags == \"happiness\":\n",
    "        affir = (vital_affirmations['Affirmation'])\n",
    "        \n",
    "    else:\n",
    "        affir = (vital_affirmations['Affirmation'])\n",
    "print(random.choice(affir))"
   ]
  },
  {
   "cell_type": "code",
   "execution_count": 51,
   "metadata": {},
   "outputs": [],
   "source": [
    "vital_affirmations.to_csv(\"affirmations_dataset_cleaned.csv\", index=False)"
   ]
  },
  {
   "cell_type": "markdown",
   "metadata": {},
   "source": [
    "# Happy ----> Gratitude\n",
    "# Sad -----> Spiritual\n",
    "# Neutral ----> Beauty\n",
    "# Angry -----> Love\n",
    "# Surprise ----> Blessings"
   ]
  },
  {
   "cell_type": "code",
   "execution_count": null,
   "metadata": {},
   "outputs": [],
   "source": []
  }
 ],
 "metadata": {
  "kernelspec": {
   "display_name": "base",
   "language": "python",
   "name": "python3"
  },
  "language_info": {
   "codemirror_mode": {
    "name": "ipython",
    "version": 3
   },
   "file_extension": ".py",
   "mimetype": "text/x-python",
   "name": "python",
   "nbconvert_exporter": "python",
   "pygments_lexer": "ipython3",
   "version": "3.8.0"
  },
  "orig_nbformat": 4
 },
 "nbformat": 4,
 "nbformat_minor": 2
}
